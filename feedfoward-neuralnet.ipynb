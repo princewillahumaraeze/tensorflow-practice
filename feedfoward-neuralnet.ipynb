{
 "cells": [
  {
   "cell_type": "code",
   "execution_count": 1,
   "id": "4cdf238e-0458-4c1d-8a94-c49a4036173b",
   "metadata": {},
   "outputs": [
    {
     "name": "stderr",
     "output_type": "stream",
     "text": [
      "2023-12-24 23:25:00.990982: I tensorflow/core/util/port.cc:111] oneDNN custom operations are on. You may see slightly different numerical results due to floating-point round-off errors from different computation orders. To turn them off, set the environment variable `TF_ENABLE_ONEDNN_OPTS=0`.\n",
      "2023-12-24 23:25:00.992546: I tensorflow/tsl/cuda/cudart_stub.cc:28] Could not find cuda drivers on your machine, GPU will not be used.\n",
      "2023-12-24 23:25:01.018405: E tensorflow/compiler/xla/stream_executor/cuda/cuda_dnn.cc:9342] Unable to register cuDNN factory: Attempting to register factory for plugin cuDNN when one has already been registered\n",
      "2023-12-24 23:25:01.018436: E tensorflow/compiler/xla/stream_executor/cuda/cuda_fft.cc:609] Unable to register cuFFT factory: Attempting to register factory for plugin cuFFT when one has already been registered\n",
      "2023-12-24 23:25:01.018451: E tensorflow/compiler/xla/stream_executor/cuda/cuda_blas.cc:1518] Unable to register cuBLAS factory: Attempting to register factory for plugin cuBLAS when one has already been registered\n",
      "2023-12-24 23:25:01.023147: I tensorflow/tsl/cuda/cudart_stub.cc:28] Could not find cuda drivers on your machine, GPU will not be used.\n",
      "2023-12-24 23:25:01.023957: I tensorflow/core/platform/cpu_feature_guard.cc:182] This TensorFlow binary is optimized to use available CPU instructions in performance-critical operations.\n",
      "To enable the following instructions: AVX2 AVX512F AVX512_VNNI FMA, in other operations, rebuild TensorFlow with the appropriate compiler flags.\n",
      "2023-12-24 23:25:01.599221: W tensorflow/compiler/tf2tensorrt/utils/py_utils.cc:38] TF-TRT Warning: Could not find TensorRT\n"
     ]
    }
   ],
   "source": [
    "import pandas as pd\n",
    "import tensorflow as tf\n",
    "from sklearn.model_selection import train_test_split\n",
    "from sklearn.preprocessing import StandardScaler\n",
    "from imblearn.over_sampling import RandomOverSampler"
   ]
  },
  {
   "cell_type": "code",
   "execution_count": 2,
   "id": "6c8f9e23-b6db-4811-92c2-ddb32f329cea",
   "metadata": {},
   "outputs": [],
   "source": [
    "df = pd.read_csv('diabetes.csv')"
   ]
  },
  {
   "cell_type": "code",
   "execution_count": 3,
   "id": "9cb20fe5-2c18-40bf-bc63-39a7f761f7be",
   "metadata": {},
   "outputs": [],
   "source": [
    "x = df[df.columns[:-1]].values\n",
    "y = df[df.columns[-1]].values"
   ]
  },
  {
   "cell_type": "code",
   "execution_count": 4,
   "id": "e269144d-e4a6-4ed9-bbb0-3c45fb2a5a07",
   "metadata": {},
   "outputs": [],
   "source": [
    "scaler = StandardScaler()\n",
    "x = scaler.fit_transform(x)"
   ]
  },
  {
   "cell_type": "code",
   "execution_count": 5,
   "id": "776aca38-4fff-4b81-a1a3-be11abf50df0",
   "metadata": {},
   "outputs": [],
   "source": [
    "over = RandomOverSampler()\n",
    "x,y = over.fit_resample(x,y)"
   ]
  },
  {
   "cell_type": "code",
   "execution_count": 6,
   "id": "884d5834-b875-4692-91d2-d19d67a3c471",
   "metadata": {},
   "outputs": [],
   "source": [
    "x_train, x_temp, y_train, y_temp = train_test_split(x,y, test_size=0.4, random_state=0 )\n",
    "x_valid, x_test, y_valid, y_test = train_test_split(x_temp,y_temp, test_size=0.5, random_state=0 )"
   ]
  },
  {
   "cell_type": "code",
   "execution_count": 7,
   "id": "d157e3e0-d650-4aeb-a962-18d9379262d1",
   "metadata": {},
   "outputs": [],
   "source": [
    "model = tf.keras.Sequential([\n",
    "    tf.keras.layers.Dense(16, activation='relu'),\n",
    "    tf.keras.layers.Dense(16, activation='relu'),\n",
    "    tf.keras.layers.Dense(1, activation='sigmoid')  \n",
    "])"
   ]
  },
  {
   "cell_type": "code",
   "execution_count": 8,
   "id": "7206b091-a0cb-4212-8193-158d04edbb1f",
   "metadata": {},
   "outputs": [],
   "source": [
    "model.compile(optimizer=tf.keras.optimizers.Adam(learning_rate=0.001),\n",
    "              loss=tf.keras.losses.BinaryCrossentropy(),\n",
    "              metrics=['accuracy'])"
   ]
  },
  {
   "cell_type": "code",
   "execution_count": 9,
   "id": "a3f3f1c7-24dd-4060-ae69-420482127946",
   "metadata": {
    "scrolled": true
   },
   "outputs": [
    {
     "name": "stdout",
     "output_type": "stream",
     "text": [
      "Epoch 1/50\n",
      "38/38 [==============================] - 1s 5ms/step - loss: 0.6659 - accuracy: 0.5583 - val_loss: 0.6707 - val_accuracy: 0.5800\n",
      "Epoch 2/50\n",
      "38/38 [==============================] - 0s 2ms/step - loss: 0.6274 - accuracy: 0.6633 - val_loss: 0.6353 - val_accuracy: 0.6500\n",
      "Epoch 3/50\n",
      "38/38 [==============================] - 0s 2ms/step - loss: 0.5955 - accuracy: 0.7017 - val_loss: 0.6006 - val_accuracy: 0.6950\n",
      "Epoch 4/50\n",
      "38/38 [==============================] - 0s 2ms/step - loss: 0.5673 - accuracy: 0.7133 - val_loss: 0.5710 - val_accuracy: 0.7350\n",
      "Epoch 5/50\n",
      "38/38 [==============================] - 0s 2ms/step - loss: 0.5458 - accuracy: 0.7350 - val_loss: 0.5501 - val_accuracy: 0.7400\n",
      "Epoch 6/50\n",
      "38/38 [==============================] - 0s 2ms/step - loss: 0.5308 - accuracy: 0.7350 - val_loss: 0.5306 - val_accuracy: 0.7600\n",
      "Epoch 7/50\n",
      "38/38 [==============================] - 0s 2ms/step - loss: 0.5215 - accuracy: 0.7383 - val_loss: 0.5192 - val_accuracy: 0.7700\n",
      "Epoch 8/50\n",
      "38/38 [==============================] - 0s 2ms/step - loss: 0.5138 - accuracy: 0.7400 - val_loss: 0.5090 - val_accuracy: 0.7650\n",
      "Epoch 9/50\n",
      "38/38 [==============================] - 0s 2ms/step - loss: 0.5082 - accuracy: 0.7517 - val_loss: 0.5031 - val_accuracy: 0.7650\n",
      "Epoch 10/50\n",
      "38/38 [==============================] - 0s 2ms/step - loss: 0.5015 - accuracy: 0.7467 - val_loss: 0.4966 - val_accuracy: 0.7650\n",
      "Epoch 11/50\n",
      "38/38 [==============================] - 0s 2ms/step - loss: 0.4985 - accuracy: 0.7467 - val_loss: 0.4916 - val_accuracy: 0.7650\n",
      "Epoch 12/50\n",
      "38/38 [==============================] - 0s 2ms/step - loss: 0.4932 - accuracy: 0.7450 - val_loss: 0.4871 - val_accuracy: 0.7650\n",
      "Epoch 13/50\n",
      "38/38 [==============================] - 0s 1ms/step - loss: 0.4902 - accuracy: 0.7467 - val_loss: 0.4852 - val_accuracy: 0.7550\n",
      "Epoch 14/50\n",
      "38/38 [==============================] - 0s 2ms/step - loss: 0.4870 - accuracy: 0.7550 - val_loss: 0.4813 - val_accuracy: 0.7550\n",
      "Epoch 15/50\n",
      "38/38 [==============================] - 0s 2ms/step - loss: 0.4846 - accuracy: 0.7517 - val_loss: 0.4785 - val_accuracy: 0.7650\n",
      "Epoch 16/50\n",
      "38/38 [==============================] - 0s 2ms/step - loss: 0.4820 - accuracy: 0.7533 - val_loss: 0.4760 - val_accuracy: 0.7600\n",
      "Epoch 17/50\n",
      "38/38 [==============================] - 0s 2ms/step - loss: 0.4784 - accuracy: 0.7533 - val_loss: 0.4730 - val_accuracy: 0.7650\n",
      "Epoch 18/50\n",
      "38/38 [==============================] - 0s 2ms/step - loss: 0.4759 - accuracy: 0.7600 - val_loss: 0.4726 - val_accuracy: 0.7600\n",
      "Epoch 19/50\n",
      "38/38 [==============================] - 0s 2ms/step - loss: 0.4735 - accuracy: 0.7533 - val_loss: 0.4719 - val_accuracy: 0.7600\n",
      "Epoch 20/50\n",
      "38/38 [==============================] - 0s 2ms/step - loss: 0.4707 - accuracy: 0.7617 - val_loss: 0.4692 - val_accuracy: 0.7600\n",
      "Epoch 21/50\n",
      "38/38 [==============================] - 0s 2ms/step - loss: 0.4686 - accuracy: 0.7650 - val_loss: 0.4664 - val_accuracy: 0.7600\n",
      "Epoch 22/50\n",
      "38/38 [==============================] - 0s 2ms/step - loss: 0.4655 - accuracy: 0.7750 - val_loss: 0.4661 - val_accuracy: 0.7600\n",
      "Epoch 23/50\n",
      "38/38 [==============================] - 0s 2ms/step - loss: 0.4633 - accuracy: 0.7717 - val_loss: 0.4639 - val_accuracy: 0.7650\n",
      "Epoch 24/50\n",
      "38/38 [==============================] - 0s 2ms/step - loss: 0.4612 - accuracy: 0.7767 - val_loss: 0.4632 - val_accuracy: 0.7600\n",
      "Epoch 25/50\n",
      "38/38 [==============================] - 0s 2ms/step - loss: 0.4576 - accuracy: 0.7767 - val_loss: 0.4620 - val_accuracy: 0.7700\n",
      "Epoch 26/50\n",
      "38/38 [==============================] - 0s 2ms/step - loss: 0.4555 - accuracy: 0.7783 - val_loss: 0.4623 - val_accuracy: 0.7700\n",
      "Epoch 27/50\n",
      "38/38 [==============================] - 0s 2ms/step - loss: 0.4530 - accuracy: 0.7767 - val_loss: 0.4616 - val_accuracy: 0.7550\n",
      "Epoch 28/50\n",
      "38/38 [==============================] - 0s 2ms/step - loss: 0.4513 - accuracy: 0.7733 - val_loss: 0.4620 - val_accuracy: 0.7500\n",
      "Epoch 29/50\n",
      "38/38 [==============================] - 0s 2ms/step - loss: 0.4486 - accuracy: 0.7817 - val_loss: 0.4576 - val_accuracy: 0.7500\n",
      "Epoch 30/50\n",
      "38/38 [==============================] - 0s 2ms/step - loss: 0.4466 - accuracy: 0.7833 - val_loss: 0.4554 - val_accuracy: 0.7500\n",
      "Epoch 31/50\n",
      "38/38 [==============================] - 0s 2ms/step - loss: 0.4436 - accuracy: 0.7817 - val_loss: 0.4561 - val_accuracy: 0.7500\n",
      "Epoch 32/50\n",
      "38/38 [==============================] - 0s 2ms/step - loss: 0.4422 - accuracy: 0.7867 - val_loss: 0.4546 - val_accuracy: 0.7550\n",
      "Epoch 33/50\n",
      "38/38 [==============================] - 0s 2ms/step - loss: 0.4402 - accuracy: 0.7867 - val_loss: 0.4542 - val_accuracy: 0.7450\n",
      "Epoch 34/50\n",
      "38/38 [==============================] - 0s 2ms/step - loss: 0.4378 - accuracy: 0.7867 - val_loss: 0.4541 - val_accuracy: 0.7600\n",
      "Epoch 35/50\n",
      "38/38 [==============================] - 0s 2ms/step - loss: 0.4364 - accuracy: 0.7900 - val_loss: 0.4521 - val_accuracy: 0.7600\n",
      "Epoch 36/50\n",
      "38/38 [==============================] - 0s 2ms/step - loss: 0.4340 - accuracy: 0.7900 - val_loss: 0.4530 - val_accuracy: 0.7600\n",
      "Epoch 37/50\n",
      "38/38 [==============================] - 0s 2ms/step - loss: 0.4331 - accuracy: 0.7917 - val_loss: 0.4517 - val_accuracy: 0.7650\n",
      "Epoch 38/50\n",
      "38/38 [==============================] - 0s 2ms/step - loss: 0.4300 - accuracy: 0.7867 - val_loss: 0.4498 - val_accuracy: 0.7650\n",
      "Epoch 39/50\n",
      "38/38 [==============================] - 0s 2ms/step - loss: 0.4293 - accuracy: 0.7933 - val_loss: 0.4507 - val_accuracy: 0.7650\n",
      "Epoch 40/50\n",
      "38/38 [==============================] - 0s 2ms/step - loss: 0.4267 - accuracy: 0.7950 - val_loss: 0.4485 - val_accuracy: 0.7650\n",
      "Epoch 41/50\n",
      "38/38 [==============================] - 0s 2ms/step - loss: 0.4251 - accuracy: 0.7950 - val_loss: 0.4494 - val_accuracy: 0.7650\n",
      "Epoch 42/50\n",
      "38/38 [==============================] - 0s 2ms/step - loss: 0.4239 - accuracy: 0.8017 - val_loss: 0.4499 - val_accuracy: 0.7650\n",
      "Epoch 43/50\n",
      "38/38 [==============================] - 0s 2ms/step - loss: 0.4231 - accuracy: 0.8033 - val_loss: 0.4466 - val_accuracy: 0.7650\n",
      "Epoch 44/50\n",
      "38/38 [==============================] - 0s 2ms/step - loss: 0.4215 - accuracy: 0.8017 - val_loss: 0.4481 - val_accuracy: 0.7700\n",
      "Epoch 45/50\n",
      "38/38 [==============================] - 0s 2ms/step - loss: 0.4197 - accuracy: 0.7967 - val_loss: 0.4471 - val_accuracy: 0.7600\n",
      "Epoch 46/50\n",
      "38/38 [==============================] - 0s 2ms/step - loss: 0.4177 - accuracy: 0.8033 - val_loss: 0.4469 - val_accuracy: 0.7600\n",
      "Epoch 47/50\n",
      "38/38 [==============================] - 0s 2ms/step - loss: 0.4174 - accuracy: 0.8033 - val_loss: 0.4476 - val_accuracy: 0.7600\n",
      "Epoch 48/50\n",
      "38/38 [==============================] - 0s 2ms/step - loss: 0.4172 - accuracy: 0.8033 - val_loss: 0.4478 - val_accuracy: 0.7550\n",
      "Epoch 49/50\n",
      "38/38 [==============================] - 0s 2ms/step - loss: 0.4138 - accuracy: 0.8083 - val_loss: 0.4472 - val_accuracy: 0.7700\n",
      "Epoch 50/50\n",
      "38/38 [==============================] - 0s 2ms/step - loss: 0.4124 - accuracy: 0.8000 - val_loss: 0.4482 - val_accuracy: 0.7650\n"
     ]
    },
    {
     "data": {
      "text/plain": [
       "<keras.src.callbacks.History at 0x7f1e85f2ac20>"
      ]
     },
     "execution_count": 9,
     "metadata": {},
     "output_type": "execute_result"
    }
   ],
   "source": [
    "model.fit(x_train, y_train, batch_size=16, epochs=50, validation_data=(x_valid, y_valid))"
   ]
  },
  {
   "cell_type": "code",
   "execution_count": 10,
   "id": "de38d2b4-3f41-41d9-b9ee-4872753c08ba",
   "metadata": {},
   "outputs": [
    {
     "name": "stdout",
     "output_type": "stream",
     "text": [
      "7/7 [==============================] - 0s 1ms/step - loss: 0.4681 - accuracy: 0.7800\n"
     ]
    },
    {
     "data": {
      "text/plain": [
       "[0.4681016802787781, 0.7799999713897705]"
      ]
     },
     "execution_count": 10,
     "metadata": {},
     "output_type": "execute_result"
    }
   ],
   "source": [
    "model.evaluate(x_test, y_test)"
   ]
  },
  {
   "cell_type": "code",
   "execution_count": null,
   "id": "c5b7812b-5a21-475d-b122-53f74a462e22",
   "metadata": {},
   "outputs": [],
   "source": []
  }
 ],
 "metadata": {
  "kernelspec": {
   "display_name": "Python 3 (ipykernel)",
   "language": "python",
   "name": "python3"
  },
  "language_info": {
   "codemirror_mode": {
    "name": "ipython",
    "version": 3
   },
   "file_extension": ".py",
   "mimetype": "text/x-python",
   "name": "python",
   "nbconvert_exporter": "python",
   "pygments_lexer": "ipython3",
   "version": "3.10.12"
  }
 },
 "nbformat": 4,
 "nbformat_minor": 5
}
