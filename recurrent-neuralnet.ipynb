{
 "cells": [
  {
   "cell_type": "code",
   "execution_count": 1,
   "id": "b721e76f-9703-438c-87fc-399eacb8282b",
   "metadata": {},
   "outputs": [
    {
     "name": "stderr",
     "output_type": "stream",
     "text": [
      "2023-12-25 22:34:59.536611: I tensorflow/core/util/port.cc:111] oneDNN custom operations are on. You may see slightly different numerical results due to floating-point round-off errors from different computation orders. To turn them off, set the environment variable `TF_ENABLE_ONEDNN_OPTS=0`.\n",
      "2023-12-25 22:35:00.995707: I tensorflow/tsl/cuda/cudart_stub.cc:28] Could not find cuda drivers on your machine, GPU will not be used.\n",
      "2023-12-25 22:35:05.984658: E tensorflow/compiler/xla/stream_executor/cuda/cuda_dnn.cc:9342] Unable to register cuDNN factory: Attempting to register factory for plugin cuDNN when one has already been registered\n",
      "2023-12-25 22:35:05.984717: E tensorflow/compiler/xla/stream_executor/cuda/cuda_fft.cc:609] Unable to register cuFFT factory: Attempting to register factory for plugin cuFFT when one has already been registered\n",
      "2023-12-25 22:35:06.035493: E tensorflow/compiler/xla/stream_executor/cuda/cuda_blas.cc:1518] Unable to register cuBLAS factory: Attempting to register factory for plugin cuBLAS when one has already been registered\n",
      "2023-12-25 22:35:10.369749: I tensorflow/tsl/cuda/cudart_stub.cc:28] Could not find cuda drivers on your machine, GPU will not be used.\n",
      "2023-12-25 22:35:10.393936: I tensorflow/core/platform/cpu_feature_guard.cc:182] This TensorFlow binary is optimized to use available CPU instructions in performance-critical operations.\n",
      "To enable the following instructions: AVX2 AVX512F AVX512_VNNI FMA, in other operations, rebuild TensorFlow with the appropriate compiler flags.\n",
      "2023-12-25 22:35:32.203515: W tensorflow/compiler/tf2tensorrt/utils/py_utils.cc:38] TF-TRT Warning: Could not find TensorRT\n"
     ]
    }
   ],
   "source": [
    "import numpy as np\n",
    "import pandas as pd\n",
    "import tensorflow as tf\n",
    "import tensorflow_hub as hub"
   ]
  },
  {
   "cell_type": "code",
   "execution_count": 2,
   "id": "e860316d-67bb-469a-a789-1035ec7d5c77",
   "metadata": {},
   "outputs": [],
   "source": [
    "df = pd.read_csv('wine-reviews.csv', usecols=['country','description','points','price','variety','winery'])\n",
    "df = df.dropna(subset=['description','points'])\n",
    "df['label'] = (df.points >= 90).astype(int)\n",
    "df =  df[['description','points','label']]"
   ]
  },
  {
   "cell_type": "code",
   "execution_count": 3,
   "id": "5b8790ca-f32c-44f0-99b3-45f29d39a955",
   "metadata": {},
   "outputs": [
    {
     "name": "stderr",
     "output_type": "stream",
     "text": [
      "/usr/local/lib/python3.10/dist-packages/numpy/core/fromnumeric.py:59: FutureWarning: 'DataFrame.swapaxes' is deprecated and will be removed in a future version. Please use 'DataFrame.transpose' instead.\n",
      "  return bound(*args, **kwds)\n"
     ]
    }
   ],
   "source": [
    "train,valid,test = np.split(df.sample(frac=1),[int(0.8*len(df)), int(0.9*len(df))])"
   ]
  },
  {
   "cell_type": "code",
   "execution_count": 4,
   "id": "8b4167c5-b4ed-42d2-ac5b-027a6ddc2bcc",
   "metadata": {},
   "outputs": [],
   "source": [
    "def df_to_dataset(dataframe, shuffle=True, batch_size=1024):\n",
    "    df = dataframe.copy()\n",
    "    labels = df.pop('label')\n",
    "    df = df['description']\n",
    "    ds = tf.data.Dataset.from_tensor_slices((df, labels))\n",
    "    if shuffle:\n",
    "        ds = ds.shuffle(buffer_size=len(dataframe))\n",
    "    ds = ds.batch(batch_size)\n",
    "    ds = ds.prefetch(tf.data.AUTOTUNE)\n",
    "    return ds"
   ]
  },
  {
   "cell_type": "code",
   "execution_count": 5,
   "id": "73cb537b-f14c-4ed8-9657-1a2dcb00363a",
   "metadata": {},
   "outputs": [],
   "source": [
    "train_data = df_to_dataset(train)\n",
    "valid_data = df_to_dataset(valid)\n",
    "test_data = df_to_dataset(test)"
   ]
  },
  {
   "cell_type": "code",
   "execution_count": 6,
   "id": "0e482822-f03a-4769-91ff-3d8080169c9a",
   "metadata": {},
   "outputs": [],
   "source": [
    "#Embedding + Model\n",
    "embedding = 'nnlm-en-dim50'\n",
    "hub_layer = hub.KerasLayer(hub.load(embedding), dtype=tf.string, trainable=True)"
   ]
  },
  {
   "cell_type": "code",
   "execution_count": 7,
   "id": "60202161-26ae-4283-89e6-da245222b916",
   "metadata": {},
   "outputs": [
    {
     "data": {
      "text/plain": [
       "<tf.Tensor: shape=(1024, 50), dtype=float32, numpy=\n",
       "array([[ 0.18784617, -0.19107637, -0.07237603, ...,  0.05278848,\n",
       "         0.01869792,  0.09858268],\n",
       "       [ 0.242909  , -0.2848941 , -0.23573658, ..., -0.00260593,\n",
       "         0.04618915, -0.10205477],\n",
       "       [ 0.4516159 , -0.20035018, -0.06972782, ..., -0.02742683,\n",
       "         0.19686465, -0.02554434],\n",
       "       ...,\n",
       "       [ 0.230189  , -0.31195062,  0.00277889, ..., -0.11691706,\n",
       "         0.05998907,  0.16602597],\n",
       "       [ 0.15546523,  0.06577007,  0.14196447, ..., -0.07087004,\n",
       "        -0.03363374,  0.03173432],\n",
       "       [ 0.31554493,  0.01783893,  0.27045313, ...,  0.00627854,\n",
       "        -0.04818711,  0.19001988]], dtype=float32)>"
      ]
     },
     "execution_count": 7,
     "metadata": {},
     "output_type": "execute_result"
    }
   ],
   "source": [
    "hub_layer(list(train_data)[0][0])"
   ]
  },
  {
   "cell_type": "code",
   "execution_count": 8,
   "id": "10889a12-eeeb-40d1-a20b-c15b8092ccd3",
   "metadata": {},
   "outputs": [],
   "source": [
    "model = tf.keras.Sequential()\n",
    "model.add(hub_layer)\n",
    "model.add(tf.keras.layers.Dense(16, activation='relu'))\n",
    "model.add(tf.keras.layers.Dropout(0.4))\n",
    "model.add(tf.keras.layers.Dense(16, activation='relu'))\n",
    "model.add(tf.keras.layers.Dropout(0.4))\n",
    "model.add(tf.keras.layers.Dense(1, activation='sigmoid'))"
   ]
  },
  {
   "cell_type": "code",
   "execution_count": 9,
   "id": "3d481a05-8451-4992-a2f7-4c7105bf8632",
   "metadata": {},
   "outputs": [],
   "source": [
    "model.compile(optimizer=tf.keras.optimizers.Adam(learning_rate=0.001),\n",
    "              loss = tf.keras.losses.BinaryCrossentropy(),\n",
    "              metrics=['accuracy'])"
   ]
  },
  {
   "cell_type": "code",
   "execution_count": 10,
   "id": "bf97e7ec-073d-4218-91b7-94da35ee46bd",
   "metadata": {},
   "outputs": [
    {
     "name": "stdout",
     "output_type": "stream",
     "text": [
      "Epoch 1/5\n",
      "102/102 [==============================] - 44s 383ms/step - loss: 0.6268 - accuracy: 0.6371 - val_loss: 0.5161 - val_accuracy: 0.7808\n",
      "Epoch 2/5\n",
      "102/102 [==============================] - 40s 389ms/step - loss: 0.4787 - accuracy: 0.7776 - val_loss: 0.4041 - val_accuracy: 0.8132\n",
      "Epoch 3/5\n",
      "102/102 [==============================] - 40s 389ms/step - loss: 0.4033 - accuracy: 0.8235 - val_loss: 0.3804 - val_accuracy: 0.8242\n",
      "Epoch 4/5\n",
      "102/102 [==============================] - 40s 389ms/step - loss: 0.3670 - accuracy: 0.8427 - val_loss: 0.3730 - val_accuracy: 0.8281\n",
      "Epoch 5/5\n",
      "102/102 [==============================] - 40s 393ms/step - loss: 0.3452 - accuracy: 0.8550 - val_loss: 0.3716 - val_accuracy: 0.8280\n"
     ]
    }
   ],
   "source": [
    "history = model.fit(train_data, epochs=5, validation_data=valid_data)"
   ]
  },
  {
   "cell_type": "code",
   "execution_count": 11,
   "id": "e067af6f-3b3a-4231-8d88-d2dffd278223",
   "metadata": {},
   "outputs": [
    {
     "name": "stdout",
     "output_type": "stream",
     "text": [
      "13/13 [==============================] - 1s 29ms/step - loss: 0.3787 - accuracy: 0.8281\n"
     ]
    },
    {
     "data": {
      "text/plain": [
       "[0.37865033745765686, 0.828127384185791]"
      ]
     },
     "execution_count": 11,
     "metadata": {},
     "output_type": "execute_result"
    }
   ],
   "source": [
    "model.evaluate(test_data)"
   ]
  },
  {
   "cell_type": "code",
   "execution_count": 13,
   "id": "4f30192b-f309-4206-b5fd-36f5845f58c7",
   "metadata": {},
   "outputs": [],
   "source": [
    "encoder = tf.keras.layers.TextVectorization(max_tokens=2000)\n",
    "encoder.adapt(train_data.map(lambda text, label:text))"
   ]
  },
  {
   "cell_type": "code",
   "execution_count": 25,
   "id": "af7bab7a-7a2d-4e7f-83b9-10fca99b2f80",
   "metadata": {},
   "outputs": [],
   "source": [
    "lstm_model = tf.keras.Sequential([\n",
    "    encoder,\n",
    "    tf.keras.layers.Embedding(\n",
    "        input_dim = len(encoder.get_vocabulary()),\n",
    "        output_dim = 32,\n",
    "        mask_zero = True\n",
    "    ),\n",
    "    tf.keras.layers.LSTM(32),\n",
    "    tf.keras.layers.Dense(32, activation='relu'),\n",
    "    tf.keras.layers.Dropout(0,4),\n",
    "    tf.keras.layers.Dense(1, activation='sigmoid')\n",
    "])"
   ]
  },
  {
   "cell_type": "code",
   "execution_count": 26,
   "id": "00cacd50-3965-4fe9-8f3c-9721ea74381c",
   "metadata": {},
   "outputs": [],
   "source": [
    "lstm_model.compile(optimizer=tf.keras.optimizers.Adam(learning_rate=0.001),\n",
    "              loss = tf.keras.losses.BinaryCrossentropy(),\n",
    "              metrics=['accuracy'])"
   ]
  },
  {
   "cell_type": "code",
   "execution_count": 28,
   "id": "c79a2e56-6fce-4570-bbc9-8d5d8942d20b",
   "metadata": {},
   "outputs": [
    {
     "name": "stdout",
     "output_type": "stream",
     "text": [
      "Epoch 1/5\n",
      "102/102 [==============================] - 36s 356ms/step - loss: 0.3237 - accuracy: 0.8651 - val_loss: 0.3740 - val_accuracy: 0.8314\n",
      "Epoch 2/5\n",
      "102/102 [==============================] - 36s 354ms/step - loss: 0.3090 - accuracy: 0.8722 - val_loss: 0.3839 - val_accuracy: 0.8324\n",
      "Epoch 3/5\n",
      "102/102 [==============================] - 36s 355ms/step - loss: 0.2911 - accuracy: 0.8782 - val_loss: 0.3894 - val_accuracy: 0.8310\n",
      "Epoch 4/5\n",
      "102/102 [==============================] - 36s 354ms/step - loss: 0.2781 - accuracy: 0.8841 - val_loss: 0.3948 - val_accuracy: 0.8311\n",
      "Epoch 5/5\n",
      "102/102 [==============================] - 36s 355ms/step - loss: 0.2640 - accuracy: 0.8903 - val_loss: 0.4158 - val_accuracy: 0.8319\n"
     ]
    }
   ],
   "source": [
    "lstm_history = model.fit(train_data, epochs=5, validation_data=valid_data)"
   ]
  },
  {
   "cell_type": "code",
   "execution_count": 29,
   "id": "d47a47b6-b5fe-49c2-9402-2dbbc16cb1c2",
   "metadata": {},
   "outputs": [
    {
     "name": "stdout",
     "output_type": "stream",
     "text": [
      "13/13 [==============================] - 1s 58ms/step - loss: 0.6935 - accuracy: 0.4301\n"
     ]
    },
    {
     "data": {
      "text/plain": [
       "[0.6934940218925476, 0.43006616830825806]"
      ]
     },
     "execution_count": 29,
     "metadata": {},
     "output_type": "execute_result"
    }
   ],
   "source": [
    "lstm_model.evaluate(test_data)"
   ]
  },
  {
   "cell_type": "code",
   "execution_count": null,
   "id": "183d259f-4517-4bec-a16c-5b6fea690a4e",
   "metadata": {},
   "outputs": [],
   "source": []
  }
 ],
 "metadata": {
  "kernelspec": {
   "display_name": "Python 3 (ipykernel)",
   "language": "python",
   "name": "python3"
  },
  "language_info": {
   "codemirror_mode": {
    "name": "ipython",
    "version": 3
   },
   "file_extension": ".py",
   "mimetype": "text/x-python",
   "name": "python",
   "nbconvert_exporter": "python",
   "pygments_lexer": "ipython3",
   "version": "3.10.12"
  }
 },
 "nbformat": 4,
 "nbformat_minor": 5
}
